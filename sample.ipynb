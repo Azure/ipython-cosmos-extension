{
 "cells": [
  {
   "cell_type": "code",
   "execution_count": 47,
   "metadata": {},
   "outputs": [],
   "source": [
    "%database testdb\n",
    "%container testcol1"
   ]
  },
  {
   "cell_type": "code",
   "execution_count": 70,
   "metadata": {},
   "outputs": [
    {
     "data": {
      "text/html": [
       "<div>\n",
       "<style scoped>\n",
       "    .dataframe tbody tr th:only-of-type {\n",
       "        vertical-align: middle;\n",
       "    }\n",
       "\n",
       "    .dataframe tbody tr th {\n",
       "        vertical-align: top;\n",
       "    }\n",
       "\n",
       "    .dataframe thead th {\n",
       "        text-align: right;\n",
       "    }\n",
       "</style>\n",
       "<table border=\"1\" class=\"dataframe\">\n",
       "  <thead>\n",
       "    <tr style=\"text-align: right;\">\n",
       "      <th></th>\n",
       "      <th>_ts</th>\n",
       "      <th>id</th>\n",
       "      <th>mypk</th>\n",
       "    </tr>\n",
       "  </thead>\n",
       "  <tbody>\n",
       "    <tr>\n",
       "      <th>0</th>\n",
       "      <td>1559064392</td>\n",
       "      <td>bc259a0c-816d-11e9-a65a-efe09a54af5b</td>\n",
       "      <td>bc259a0c-816d-11e9-a65a-efe09a54af5b</td>\n",
       "    </tr>\n",
       "    <tr>\n",
       "      <th>1</th>\n",
       "      <td>1559064392</td>\n",
       "      <td>bc259a10-816d-11e9-a65a-efe09a54af5b</td>\n",
       "      <td>bc259a10-816d-11e9-a65a-efe09a54af5b</td>\n",
       "    </tr>\n",
       "    <tr>\n",
       "      <th>2</th>\n",
       "      <td>1559064392</td>\n",
       "      <td>bc259a0e-816d-11e9-a65a-efe09a54af5b</td>\n",
       "      <td>bc259a0e-816d-11e9-a65a-efe09a54af5b</td>\n",
       "    </tr>\n",
       "    <tr>\n",
       "      <th>3</th>\n",
       "      <td>1559064392</td>\n",
       "      <td>bc24d6b8-816d-11e9-a65a-efe09a54af5b</td>\n",
       "      <td>bc24d6b8-816d-11e9-a65a-efe09a54af5b</td>\n",
       "    </tr>\n",
       "    <tr>\n",
       "      <th>4</th>\n",
       "      <td>1559064392</td>\n",
       "      <td>bc259a0a-816d-11e9-a65a-efe09a54af5b</td>\n",
       "      <td>bc259a0a-816d-11e9-a65a-efe09a54af5b</td>\n",
       "    </tr>\n",
       "    <tr>\n",
       "      <th>5</th>\n",
       "      <td>1559064414</td>\n",
       "      <td>c9030f9c-816d-11e9-942b-e594c984e28c</td>\n",
       "      <td>c9030f9c-816d-11e9-942b-e594c984e28c</td>\n",
       "    </tr>\n",
       "    <tr>\n",
       "      <th>6</th>\n",
       "      <td>1559064414</td>\n",
       "      <td>c9030fa0-816d-11e9-942b-e594c984e28c</td>\n",
       "      <td>c9030fa0-816d-11e9-942b-e594c984e28c</td>\n",
       "    </tr>\n",
       "    <tr>\n",
       "      <th>7</th>\n",
       "      <td>1559064414</td>\n",
       "      <td>c9030f9e-816d-11e9-942b-e594c984e28c</td>\n",
       "      <td>c9030f9e-816d-11e9-942b-e594c984e28c</td>\n",
       "    </tr>\n",
       "    <tr>\n",
       "      <th>8</th>\n",
       "      <td>1559064414</td>\n",
       "      <td>c9030f9a-816d-11e9-942b-e594c984e28c</td>\n",
       "      <td>c9030f9a-816d-11e9-942b-e594c984e28c</td>\n",
       "    </tr>\n",
       "    <tr>\n",
       "      <th>9</th>\n",
       "      <td>1559064414</td>\n",
       "      <td>c9022538-816d-11e9-942b-e594c984e28c</td>\n",
       "      <td>c9022538-816d-11e9-942b-e594c984e28c</td>\n",
       "    </tr>\n",
       "  </tbody>\n",
       "</table>\n",
       "</div>"
      ],
      "text/plain": [
       "          _ts                                    id  \\\n",
       "0  1559064392  bc259a0c-816d-11e9-a65a-efe09a54af5b   \n",
       "1  1559064392  bc259a10-816d-11e9-a65a-efe09a54af5b   \n",
       "2  1559064392  bc259a0e-816d-11e9-a65a-efe09a54af5b   \n",
       "3  1559064392  bc24d6b8-816d-11e9-a65a-efe09a54af5b   \n",
       "4  1559064392  bc259a0a-816d-11e9-a65a-efe09a54af5b   \n",
       "5  1559064414  c9030f9c-816d-11e9-942b-e594c984e28c   \n",
       "6  1559064414  c9030fa0-816d-11e9-942b-e594c984e28c   \n",
       "7  1559064414  c9030f9e-816d-11e9-942b-e594c984e28c   \n",
       "8  1559064414  c9030f9a-816d-11e9-942b-e594c984e28c   \n",
       "9  1559064414  c9022538-816d-11e9-942b-e594c984e28c   \n",
       "\n",
       "                                   mypk  \n",
       "0  bc259a0c-816d-11e9-a65a-efe09a54af5b  \n",
       "1  bc259a10-816d-11e9-a65a-efe09a54af5b  \n",
       "2  bc259a0e-816d-11e9-a65a-efe09a54af5b  \n",
       "3  bc24d6b8-816d-11e9-a65a-efe09a54af5b  \n",
       "4  bc259a0a-816d-11e9-a65a-efe09a54af5b  \n",
       "5  c9030f9c-816d-11e9-942b-e594c984e28c  \n",
       "6  c9030fa0-816d-11e9-942b-e594c984e28c  \n",
       "7  c9030f9e-816d-11e9-942b-e594c984e28c  \n",
       "8  c9030f9a-816d-11e9-942b-e594c984e28c  \n",
       "9  c9022538-816d-11e9-942b-e594c984e28c  "
      ]
     },
     "execution_count": 70,
     "metadata": {},
     "output_type": "execute_result"
    }
   ],
   "source": [
    "%%sql\n",
    "SELECT top 10 r.mypk, r.id, r._ts from r  order by r._ts "
   ]
  },
  {
   "cell_type": "code",
   "execution_count": 71,
   "metadata": {},
   "outputs": [
    {
     "data": {
      "text/html": [
       "<div>\n",
       "<style scoped>\n",
       "    .dataframe tbody tr th:only-of-type {\n",
       "        vertical-align: middle;\n",
       "    }\n",
       "\n",
       "    .dataframe tbody tr th {\n",
       "        vertical-align: top;\n",
       "    }\n",
       "\n",
       "    .dataframe thead th {\n",
       "        text-align: right;\n",
       "    }\n",
       "</style>\n",
       "<table border=\"1\" class=\"dataframe\">\n",
       "  <thead>\n",
       "    <tr style=\"text-align: right;\">\n",
       "      <th></th>\n",
       "      <th>_ts</th>\n",
       "      <th>id</th>\n",
       "      <th>mypk</th>\n",
       "    </tr>\n",
       "  </thead>\n",
       "  <tbody>\n",
       "    <tr>\n",
       "      <th>0</th>\n",
       "      <td>1559064708</td>\n",
       "      <td>78b2a51d-816e-11e9-b261-27452561552f</td>\n",
       "      <td>78b2a51d-816e-11e9-b261-27452561552f</td>\n",
       "    </tr>\n",
       "  </tbody>\n",
       "</table>\n",
       "</div>"
      ],
      "text/plain": [
       "          _ts                                    id  \\\n",
       "0  1559064708  78b2a51d-816e-11e9-b261-27452561552f   \n",
       "\n",
       "                                   mypk  \n",
       "0  78b2a51d-816e-11e9-b261-27452561552f  "
      ]
     },
     "execution_count": 71,
     "metadata": {},
     "output_type": "execute_result"
    }
   ],
   "source": [
    "%%sql --database testdb --container testcol2\n",
    "SELECT top 1 r.mypk, r.id, r._ts from r order by r._ts desc"
   ]
  },
  {
   "cell_type": "code",
   "execution_count": 72,
   "metadata": {},
   "outputs": [],
   "source": [
    "result=_"
   ]
  },
  {
   "cell_type": "code",
   "execution_count": 73,
   "metadata": {},
   "outputs": [
    {
     "data": {
      "text/plain": [
       "0    78b2a51d-816e-11e9-b261-27452561552f\n",
       "Name: id, dtype: object"
      ]
     },
     "execution_count": 73,
     "metadata": {},
     "output_type": "execute_result"
    }
   ],
   "source": [
    "result[\"id\"]"
   ]
  },
  {
   "cell_type": "code",
   "execution_count": null,
   "metadata": {},
   "outputs": [],
   "source": []
  }
 ],
 "metadata": {
  "kernelspec": {
   "display_name": "Python 3",
   "language": "python",
   "name": "python3"
  },
  "language_info": {
   "codemirror_mode": {
    "name": "ipython",
    "version": 3
   },
   "file_extension": ".py",
   "mimetype": "text/x-python",
   "name": "python",
   "nbconvert_exporter": "python",
   "pygments_lexer": "ipython3",
   "version": "3.7.3"
  }
 },
 "nbformat": 4,
 "nbformat_minor": 2
}
